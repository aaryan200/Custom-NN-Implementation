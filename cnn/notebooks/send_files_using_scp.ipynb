{
 "cells": [
  {
   "cell_type": "code",
   "execution_count": 9,
   "metadata": {},
   "outputs": [
    {
     "name": "stdout",
     "output_type": "stream",
     "text": [
      "Note: you may need to restart the kernel to use updated packages.\n"
     ]
    }
   ],
   "source": [
    "%pip install -q pexpect"
   ]
  },
  {
   "cell_type": "code",
   "execution_count": 1,
   "metadata": {},
   "outputs": [],
   "source": [
    "import os\n",
    "from secrets_pass import CMS_PASSWORD\n",
    "import pexpect\n",
    "from tqdm import tqdm"
   ]
  },
  {
   "cell_type": "code",
   "execution_count": 2,
   "metadata": {},
   "outputs": [],
   "source": [
    "DATA_DIR = '../data/PetImages/'"
   ]
  },
  {
   "cell_type": "code",
   "execution_count": 3,
   "metadata": {},
   "outputs": [],
   "source": [
    "def send_file_to_remote(local_file_path, remote_path,\n",
    "                        user_name = 'co21btech11001',\n",
    "                        host_ip = '10.2.4.21'):\n",
    "    command = f\"scp {local_file_path} {user_name}@{host_ip}:{remote_path}\"\n",
    "    child = pexpect.spawn(command)\n",
    "    child.expect(f\"{user_name}@{host_ip}'s password:\")\n",
    "    child.sendline(CMS_PASSWORD)\n",
    "    child.expect(pexpect.EOF)\n",
    "    # print(child.before.decode())"
   ]
  },
  {
   "cell_type": "code",
   "execution_count": 21,
   "metadata": {},
   "outputs": [
    {
     "name": "stdout",
     "output_type": "stream",
     "text": [
      " \n",
      "0.jpg                                         100%   12KB   1.8MB/s   00:00    \n",
      "\n"
     ]
    }
   ],
   "source": [
    "send_file_to_remote(local_file_path = DATA_DIR + 'Cat/0.jpg',\n",
    "                    remote_path = '/home/co21btech11001/python/custom_cnn/data/Cat')"
   ]
  },
  {
   "cell_type": "code",
   "execution_count": 4,
   "metadata": {},
   "outputs": [],
   "source": [
    "def send_files(file_dir,n_files = 150):\n",
    "    file_dir_path = DATA_DIR + file_dir + '/'\n",
    "    for file_name in tqdm(os.listdir(file_dir_path)[:n_files], desc=f'Sending {file_dir} files'):\n",
    "        send_file_to_remote(local_file_path = file_dir_path + file_name,\n",
    "                            remote_path = f'/home/co21btech11001/python/custom_cnn/data/{file_dir}/')"
   ]
  },
  {
   "cell_type": "code",
   "execution_count": 5,
   "metadata": {},
   "outputs": [
    {
     "name": "stderr",
     "output_type": "stream",
     "text": [
      "Sending Cat filess: 100%|██████████| 150/150 [01:25<00:00,  1.75it/s]\n"
     ]
    }
   ],
   "source": [
    "send_files('Cat', n_files = 150)"
   ]
  },
  {
   "cell_type": "code",
   "execution_count": 6,
   "metadata": {},
   "outputs": [
    {
     "name": "stderr",
     "output_type": "stream",
     "text": [
      "Sending Dog filess: 100%|██████████| 150/150 [01:28<00:00,  1.69it/s]\n"
     ]
    }
   ],
   "source": [
    "send_files('Dog', n_files = 150)"
   ]
  },
  {
   "cell_type": "code",
   "execution_count": 7,
   "metadata": {},
   "outputs": [],
   "source": [
    "send_file_to_remote(local_file_path='04_rigorous_cnn_train.ipynb',\n",
    "                    remote_path='/home/co21btech11001/python/custom_cnn/notebooks/')"
   ]
  },
  {
   "cell_type": "code",
   "execution_count": 8,
   "metadata": {},
   "outputs": [],
   "source": [
    "send_file_to_remote(local_file_path='plot_utils.py',\n",
    "                    remote_path='/home/co21btech11001/python/custom_cnn/notebooks/')"
   ]
  },
  {
   "cell_type": "code",
   "execution_count": null,
   "metadata": {},
   "outputs": [],
   "source": []
  }
 ],
 "metadata": {
  "kernelspec": {
   "display_name": "nn",
   "language": "python",
   "name": "python3"
  },
  "language_info": {
   "codemirror_mode": {
    "name": "ipython",
    "version": 3
   },
   "file_extension": ".py",
   "mimetype": "text/x-python",
   "name": "python",
   "nbconvert_exporter": "python",
   "pygments_lexer": "ipython3",
   "version": "3.10.12"
  }
 },
 "nbformat": 4,
 "nbformat_minor": 2
}
