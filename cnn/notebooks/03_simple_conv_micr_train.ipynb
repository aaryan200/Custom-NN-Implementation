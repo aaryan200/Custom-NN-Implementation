{
 "cells": [
  {
   "cell_type": "code",
   "execution_count": 1,
   "metadata": {},
   "outputs": [],
   "source": [
    "import math\n",
    "import random\n",
    "import numpy as np\n",
    "from plot_utils import draw_dot\n",
    "from tqdm import tqdm\n",
    "from PIL import Image\n",
    "import matplotlib.pyplot as plt\n",
    "import os\n",
    "np.random.seed(0)"
   ]
  },
  {
   "cell_type": "code",
   "execution_count": 2,
   "metadata": {},
   "outputs": [],
   "source": [
    "LR = 0.01\n",
    "\n",
    "class Value:\n",
    "    \"\"\" stores a single scalar value and its gradient \"\"\"\n",
    "\n",
    "    def __init__(self, data, _children=(), _op=''):\n",
    "        self.data = data\n",
    "        self.grad = 0\n",
    "        # internal variables used for autograd graph construction\n",
    "        self._backward = lambda: None\n",
    "        self._prev = set(_children)\n",
    "        self._op = _op # the op that produced this node, for graphviz / debugging / etc\n",
    "\n",
    "    def __add__(self, other):\n",
    "        other = other if isinstance(other, Value) else Value(other)\n",
    "        out = Value(self.data + other.data, (self, other), '+')\n",
    "\n",
    "        def _backward():\n",
    "            self.grad += out.grad\n",
    "            other.grad += out.grad\n",
    "        out._backward = _backward\n",
    "\n",
    "        return out\n",
    "\n",
    "    def __mul__(self, other):\n",
    "        other = other if isinstance(other, Value) else Value(other)\n",
    "        out = Value(self.data * other.data, (self, other), '*')\n",
    "\n",
    "        def _backward():\n",
    "            self.grad += other.data * out.grad\n",
    "            other.grad += self.data * out.grad\n",
    "        out._backward = _backward\n",
    "\n",
    "        return out\n",
    "\n",
    "    def __pow__(self, other):\n",
    "        assert isinstance(other, (int, float)), \"only supporting int/float powers for now\"\n",
    "        out = Value(self.data**other, (self,), f'**{other}')\n",
    "\n",
    "        def _backward():\n",
    "            self.grad += (other * self.data**(other-1)) * out.grad\n",
    "        out._backward = _backward\n",
    "\n",
    "        return out\n",
    "\n",
    "    def relu(self):\n",
    "        # (self, ) is passed so that it behaves like a tuple\n",
    "        out = Value(0 if self.data < 0 else self.data, (self,), 'ReLU')\n",
    "\n",
    "        def _backward():\n",
    "            self.grad += (out.data > 0) * out.grad\n",
    "        out._backward = _backward\n",
    "\n",
    "        return out\n",
    "\n",
    "    def backward(self):\n",
    "\n",
    "        # topological order all of the children in the graph\n",
    "        topo = []\n",
    "        visited = set()\n",
    "        def build_topo(v):\n",
    "            if v not in visited:\n",
    "                visited.add(v)\n",
    "                for child in v._prev:\n",
    "                    build_topo(child)\n",
    "                topo.append(v)\n",
    "        build_topo(self)\n",
    "\n",
    "        # go one variable at a time and apply the chain rule to get its gradient\n",
    "        self.grad = 1\n",
    "        for v in reversed(topo):\n",
    "            v._backward()\n",
    "\n",
    "    def exp(self):\n",
    "        out = Value(math.exp(self.data), (self, ), 'exp')\n",
    "\n",
    "        def _backward():\n",
    "            self.grad += out.data * out.grad\n",
    "\n",
    "        out._backward = _backward\n",
    "        return out\n",
    "\n",
    "    def __neg__(self): # -self\n",
    "        return self * -1\n",
    "\n",
    "    def __radd__(self, other): # other + self\n",
    "        return self + other\n",
    "\n",
    "    def __sub__(self, other): # self - other\n",
    "        return self + (-other)\n",
    "\n",
    "    def __rsub__(self, other): # other - self\n",
    "        return other + (-self)\n",
    "\n",
    "    def __rmul__(self, other): # other * self\n",
    "        return self * other\n",
    "\n",
    "    def __truediv__(self, other): # self / other\n",
    "        return self * other**-1\n",
    "\n",
    "    def __rtruediv__(self, other): # other / self\n",
    "        return other * self**-1\n",
    "\n",
    "    def __repr__(self):\n",
    "        return f\"Value(data={self.data}, grad={self.grad})\"\n",
    "\n",
    "def get_value_array(shape):\n",
    "    \"\"\"\n",
    "    A numpy array of shape `shape` randomly initialized between -1 and 1\n",
    "    \"\"\"\n",
    "    if len(shape) == 1:\n",
    "        return np.array([Value(random.uniform(-1.0, 1.0)) for _ in range(shape[0])])\n",
    "    \n",
    "    return np.array([get_value_array(shape[1:]) for _ in range(shape[0])])\n",
    "\n",
    "def np_array_to_value_array(arr):\n",
    "    \"\"\"\n",
    "    Convert a numpy array to a Value array\n",
    "    \"\"\"\n",
    "    if len(arr.shape) == 1:\n",
    "        return np.array([Value(v) for v in arr])\n",
    "    \n",
    "    return np.array([np_array_to_value_array(v) for v in arr])\n",
    "\n",
    "def zero_grad_value_array(arr):\n",
    "    \"\"\"\n",
    "    Set the gradient of all elements to 0\n",
    "    \"\"\"\n",
    "    for v in arr.flatten():\n",
    "        v.grad = 0.0\n",
    "    \n",
    "    return\n",
    "\n",
    "def gradient_descent_value_array(arr, lr = LR):\n",
    "    \"\"\"\n",
    "    Replace every `item` with `item - lr * item.grad`\n",
    "    \"\"\"\n",
    "    for v in arr.flatten():\n",
    "        v.data -= lr * v.grad\n",
    "\n",
    "    return\n",
    "\n",
    "class DenseLayer:\n",
    "    def __init__(self, units, dim):\n",
    "        self.W = get_value_array((units, dim))\n",
    "        self.b = get_value_array((units, ))\n",
    "\n",
    "        self.units = units\n",
    "        self.dim = dim\n",
    "\n",
    "    def forward(self, x):\n",
    "        \"\"\"\n",
    "        Dimension of x should be (self.dim, ).\n",
    "        Sigmoid activation is applied to the output.\n",
    "        \"\"\"\n",
    "        assert x.shape == (self.dim, ), f\"Shape should be ({self.dim}, ), got {x.shape}\"\n",
    "\n",
    "        Z = self.W @ x + self.b\n",
    "\n",
    "        # Z.shape will be (self.units, )\n",
    "\n",
    "        A = np.array([1.0/(1.0 + (-v).exp()) for v in Z])\n",
    "\n",
    "        return A\n",
    "    \n",
    "    def zero_grad(self):\n",
    "        zero_grad_value_array(self.W)\n",
    "        zero_grad_value_array(self.b)\n",
    "\n",
    "    def update(self, lr = LR):\n",
    "        gradient_descent_value_array(self.W, lr = lr)\n",
    "        gradient_descent_value_array(self.b, lr = lr)\n",
    "\n",
    "    def num_parameters(self):\n",
    "        return self.W.size + self.b.size\n",
    "\n",
    "class Conv2D:\n",
    "    def __init__(self, input_shape = (64, 64),\n",
    "                 num_filters = 4,\n",
    "                 kernel_size = 4,\n",
    "                 strides = 2,\n",
    "                 padding = 0):\n",
    "        self.input_shape = input_shape\n",
    "        self.num_filters = num_filters\n",
    "        self.kernel_size = kernel_size\n",
    "        self.strides = strides\n",
    "        self.padding = padding\n",
    "\n",
    "        # Only for square images\n",
    "        self.op_shape = (input_shape[0] + 2*padding - kernel_size) // strides + 1\n",
    "\n",
    "        self.flattened_op_len = self.num_filters * (self.op_shape ** 2)\n",
    "\n",
    "        # Kernel weights\n",
    "        self.K = get_value_array((num_filters, kernel_size, kernel_size))\n",
    "\n",
    "    def forward(self, x):\n",
    "        \"\"\"\n",
    "        Dimension of x should be: `self.input_shape`.\n",
    "        ReLU activation is applied to the output.\n",
    "        \"\"\"\n",
    "        # Pad the input\n",
    "        # print(x)\n",
    "        # print(x.shape)\n",
    "        x_pad = np.pad(x, ((self.padding, self.padding), (self.padding, self.padding)),\n",
    "                   constant_values=Value(0.0))\n",
    "        \n",
    "        # Assigment operator is overloaded for Value\n",
    "        res = get_value_array((self.num_filters, self.op_shape, self.op_shape))\n",
    "\n",
    "        for f in range(self.num_filters):\n",
    "            for i in range(self.op_shape):\n",
    "                for j in range(self.op_shape):\n",
    "                    i_start = i*self.strides\n",
    "                    i_end = i_start + self.kernel_size\n",
    "                    j_start = j*self.strides\n",
    "                    j_end = j_start + self.kernel_size\n",
    "\n",
    "                    temp_val = np.sum(x_pad[i_start: i_end, j_start: j_end] * self.K[f])\n",
    "\n",
    "                    # Apply ReLU\n",
    "                    res[f][i][j] = temp_val.relu()\n",
    "        \n",
    "        return res\n",
    "    \n",
    "    def zero_grad(self):\n",
    "        zero_grad_value_array(self.K)\n",
    "\n",
    "    def update(self, lr = LR):\n",
    "        gradient_descent_value_array(self.K, lr = lr)\n",
    "\n",
    "    def num_parameters(self):\n",
    "        return self.K.size"
   ]
  },
  {
   "cell_type": "code",
   "execution_count": 3,
   "metadata": {},
   "outputs": [],
   "source": [
    "def loss_fn(y_true, y_pred):\n",
    "    \"\"\"\n",
    "    Mean Squared Error loss function\n",
    "    \"\"\"\n",
    "    ls = (y_true - y_pred)**2\n",
    "    # Return the value from the array\n",
    "    # Squeeze the array\n",
    "    return ls"
   ]
  },
  {
   "cell_type": "code",
   "execution_count": 4,
   "metadata": {},
   "outputs": [],
   "source": [
    "class Model:\n",
    "    def __init__(self, input_shape = (64, 64), kernel_size = 4, strides = 2, padding = 0, \n",
    "                 num_filters = 4, dense_units = 1):\n",
    "        self.conv_1 = Conv2D(input_shape = input_shape, num_filters = num_filters,\n",
    "                             kernel_size = kernel_size, strides = strides, padding = padding)\n",
    "        \n",
    "        self.dense_1 = DenseLayer(units = dense_units, dim = self.conv_1.flattened_op_len)\n",
    "\n",
    "    def fit(self, X, y, num_epochs = 5,\n",
    "            batch_size = 4,\n",
    "            lr = LR):\n",
    "        # Ceil of len(X) / batch_size\n",
    "        steps_per_epoch = (X.shape[0] + batch_size - 1) // batch_size\n",
    "        for ep in range(num_epochs):\n",
    "            for stp in tqdm(range(steps_per_epoch), desc=f'Epoch {str(ep+1)}'):\n",
    "                start_idx = stp * batch_size\n",
    "                end_idx = min((stp+1) * batch_size, X.shape[0])\n",
    "\n",
    "                X_batch = X[start_idx: end_idx]\n",
    "                y_batch = y[start_idx: end_idx]\n",
    "\n",
    "                losses = []\n",
    "\n",
    "                for i in range(batch_size):\n",
    "                    A = self.forward(X_batch[i])\n",
    "                    # Calculate the loss\n",
    "                    ls = loss_fn(y_batch[i], A[0])\n",
    "                    losses.append(ls)\n",
    "\n",
    "                comb_loss = sum(losses) / batch_size\n",
    "\n",
    "                # Set all the gradients to 0\n",
    "                self.zero_grad()\n",
    "\n",
    "                # Backpropagate the loss\n",
    "                comb_loss.backward()\n",
    "\n",
    "                # Update the weights\n",
    "                self.update(lr = lr)\n",
    "            \n",
    "            print(f'Epoch {ep+1}: Loss: {comb_loss.data}')\n",
    "\n",
    "    \n",
    "    def forward(self, x):\n",
    "        \"\"\"\n",
    "        x should be of shape `self.input_shape`\n",
    "        \"\"\"\n",
    "        conv_op = self.conv_1.forward(x)\n",
    "        # Flatten the output\n",
    "        flattened_op = conv_op.flatten()\n",
    "        dense_op = self.dense_1.forward(flattened_op)\n",
    "        return dense_op\n",
    "    \n",
    "    def zero_grad(self):\n",
    "        self.conv_1.zero_grad()\n",
    "        self.dense_1.zero_grad()\n",
    "\n",
    "    def update(self, lr = LR):\n",
    "        self.conv_1.update(lr = lr)\n",
    "        self.dense_1.update(lr = lr)\n",
    "\n",
    "    def predict(self, x):\n",
    "        \"\"\"\n",
    "        `x` should be of shape `self.input_shape`\n",
    "        \"\"\"\n",
    "        return self.forward(x)[0]\n",
    "    \n",
    "    def num_parameters(self):\n",
    "        return self.conv_1.num_parameters() + self.dense_1.num_parameters()"
   ]
  },
  {
   "cell_type": "markdown",
   "metadata": {},
   "source": [
    "## Prepare the data"
   ]
  },
  {
   "cell_type": "code",
   "execution_count": 5,
   "metadata": {},
   "outputs": [],
   "source": [
    "CAT_DIR = '../data/PetImages/Cat/'\n",
    "DOG_DIR = '../data/PetImages/Dog/'\n",
    "NUM_IMAGES = 30\n",
    "TRAIN_IMAGES = 20"
   ]
  },
  {
   "cell_type": "code",
   "execution_count": 6,
   "metadata": {},
   "outputs": [],
   "source": [
    "# Choose 20 images from each category randomly\n",
    "cat_images = np.random.choice(os.listdir(CAT_DIR), NUM_IMAGES)\n",
    "dog_images = np.random.choice(os.listdir(DOG_DIR), NUM_IMAGES)"
   ]
  },
  {
   "cell_type": "code",
   "execution_count": 7,
   "metadata": {},
   "outputs": [],
   "source": [
    "train_cat_images = cat_images[:TRAIN_IMAGES]\n",
    "train_dog_images = dog_images[:TRAIN_IMAGES]\n",
    "test_cat_images = cat_images[TRAIN_IMAGES:]\n",
    "test_dog_images = dog_images[TRAIN_IMAGES:]"
   ]
  },
  {
   "cell_type": "code",
   "execution_count": 8,
   "metadata": {},
   "outputs": [
    {
     "data": {
      "image/png": "[encoded data removed]",
      "text/plain": [
       "<Figure size 640x480 with 2 Axes>"
      ]
     },
     "metadata": {},
     "output_type": "display_data"
    }
   ],
   "source": [
    "# Plot one cat image from train_cat_images and one dog image from train_dog_images\n",
    "fig, axs = plt.subplots(1, 2)\n",
    "cat_img = Image.open(CAT_DIR + train_cat_images[0])\n",
    "dog_img = Image.open(DOG_DIR + train_dog_images[0])\n",
    "axs[0].imshow(cat_img)\n",
    "axs[0].set_title('Cat')\n",
    "axs[0].axis('off')\n",
    "axs[1].imshow(dog_img)\n",
    "axs[1].set_title('Dog')\n",
    "axs[1].axis('off')\n",
    "plt.show()"
   ]
  },
  {
   "cell_type": "markdown",
   "metadata": {},
   "source": [
    "### Cat: 0, Dog: 1"
   ]
  },
  {
   "cell_type": "code",
   "execution_count": 9,
   "metadata": {},
   "outputs": [],
   "source": [
    "def get_data(dog_images, cat_images, resize_shape = (128, 128), shuffle = True):\n",
    "    X = []\n",
    "    y = []\n",
    "    for dog_img in dog_images:\n",
    "        img = Image.open(DOG_DIR + dog_img)\n",
    "        img = img.resize(resize_shape)\n",
    "        # Convert numbers to float and normalize them from 0 to 1\n",
    "        img = np.array(img, dtype=np.float64) / 255.0\n",
    "        # Take the average of the 3 color channels\n",
    "        img = np.mean(img, axis=2)\n",
    "        img_val_arr = np_array_to_value_array(img)\n",
    "        X.append(img_val_arr)\n",
    "        y.append(Value(1.0))\n",
    "    for cat_img in cat_images:\n",
    "        img = Image.open(CAT_DIR + cat_img)\n",
    "        img = img.resize(resize_shape)\n",
    "        # Convert numbers to float and normalize them from 0 to 1\n",
    "        img = np.array(img, dtype=np.float64) / 255.0\n",
    "        # Take the average of the 3 color channels\n",
    "        img = np.mean(img, axis=2)\n",
    "        img_val_arr = np_array_to_value_array(img)\n",
    "        X.append(img_val_arr)\n",
    "        y.append(Value(0.0))\n",
    "    if shuffle:\n",
    "        indices = np.random.permutation(len(X))\n",
    "        X = [X[i] for i in indices]\n",
    "        y = [y[i] for i in indices]\n",
    "    return np.array(X), np.array(y)"
   ]
  },
  {
   "cell_type": "code",
   "execution_count": 10,
   "metadata": {},
   "outputs": [],
   "source": [
    "resize_shape = (32, 32)\n",
    "X_train, y_train = get_data(train_dog_images, train_cat_images, resize_shape = resize_shape)\n",
    "X_test, y_test = get_data(test_dog_images, test_cat_images, resize_shape = resize_shape)"
   ]
  },
  {
   "cell_type": "code",
   "execution_count": 11,
   "metadata": {},
   "outputs": [
    {
     "data": {
      "text/plain": [
       "array([Value(data=1.0, grad=0), Value(data=1.0, grad=0),\n",
       "       Value(data=0.0, grad=0), Value(data=0.0, grad=0),\n",
       "       Value(data=1.0, grad=0), Value(data=0.0, grad=0),\n",
       "       Value(data=0.0, grad=0), Value(data=1.0, grad=0),\n",
       "       Value(data=1.0, grad=0), Value(data=1.0, grad=0),\n",
       "       Value(data=0.0, grad=0), Value(data=0.0, grad=0),\n",
       "       Value(data=0.0, grad=0), Value(data=1.0, grad=0),\n",
       "       Value(data=0.0, grad=0), Value(data=1.0, grad=0),\n",
       "       Value(data=0.0, grad=0), Value(data=0.0, grad=0),\n",
       "       Value(data=0.0, grad=0), Value(data=0.0, grad=0),\n",
       "       Value(data=1.0, grad=0), Value(data=0.0, grad=0),\n",
       "       Value(data=0.0, grad=0), Value(data=0.0, grad=0),\n",
       "       Value(data=1.0, grad=0), Value(data=0.0, grad=0),\n",
       "       Value(data=1.0, grad=0), Value(data=0.0, grad=0),\n",
       "       Value(data=1.0, grad=0), Value(data=1.0, grad=0),\n",
       "       Value(data=1.0, grad=0), Value(data=0.0, grad=0),\n",
       "       Value(data=1.0, grad=0), Value(data=1.0, grad=0),\n",
       "       Value(data=0.0, grad=0), Value(data=1.0, grad=0),\n",
       "       Value(data=0.0, grad=0), Value(data=1.0, grad=0),\n",
       "       Value(data=1.0, grad=0), Value(data=1.0, grad=0)], dtype=object)"
      ]
     },
     "execution_count": 11,
     "metadata": {},
     "output_type": "execute_result"
    }
   ],
   "source": [
    "y_train"
   ]
  },
  {
   "cell_type": "code",
   "execution_count": 12,
   "metadata": {},
   "outputs": [
    {
     "name": "stdout",
     "output_type": "stream",
     "text": [
      "(40, 32, 32) (40,)\n"
     ]
    },
    {
     "data": {
      "text/plain": [
       "array([[Value(data=0.5163398692810458, grad=0),\n",
       "        Value(data=0.5137254901960785, grad=0),\n",
       "        Value(data=0.5163398692810457, grad=0),\n",
       "        Value(data=0.5372549019607843, grad=0),\n",
       "        Value(data=0.538562091503268, grad=0)],\n",
       "       [Value(data=0.5411764705882353, grad=0),\n",
       "        Value(data=0.5411764705882353, grad=0),\n",
       "        Value(data=0.5281045751633987, grad=0),\n",
       "        Value(data=0.5281045751633987, grad=0),\n",
       "        Value(data=0.5189542483660131, grad=0)],\n",
       "       [Value(data=0.5542483660130718, grad=0),\n",
       "        Value(data=0.5647058823529411, grad=0),\n",
       "        Value(data=0.5555555555555555, grad=0),\n",
       "        Value(data=0.5542483660130718, grad=0),\n",
       "        Value(data=0.5516339869281045, grad=0)],\n",
       "       [Value(data=0.5660130718954247, grad=0),\n",
       "        Value(data=0.5490196078431372, grad=0),\n",
       "        Value(data=0.538562091503268, grad=0),\n",
       "        Value(data=0.5450980392156862, grad=0),\n",
       "        Value(data=0.538562091503268, grad=0)],\n",
       "       [Value(data=0.5555555555555555, grad=0),\n",
       "        Value(data=0.5503267973856208, grad=0),\n",
       "        Value(data=0.5411764705882353, grad=0),\n",
       "        Value(data=0.5490196078431372, grad=0),\n",
       "        Value(data=0.6287581699346405, grad=0)]], dtype=object)"
      ]
     },
     "execution_count": 12,
     "metadata": {},
     "output_type": "execute_result"
    }
   ],
   "source": [
    "print(X_train.shape, y_train.shape)\n",
    "X_train[0][:5, :5]"
   ]
  },
  {
   "cell_type": "code",
   "execution_count": 13,
   "metadata": {},
   "outputs": [],
   "source": [
    "# Plot one cat image from train_cat_images and one dog image from train_dog_images\n",
    "# fig, axs = plt.subplots(1, 2)\n",
    "# # Pick a cat image\n",
    "# cat_img = X_train[y_train == 0][0]\n",
    "# # Pick a dog image\n",
    "# dog_img = X_train[y_train == 1][0]\n",
    "# axs[0].imshow(cat_img)\n",
    "# axs[0].set_title('Cat')\n",
    "# axs[0].axis('off')\n",
    "# axs[1].imshow(dog_img)\n",
    "# axs[1].set_title('Dog')\n",
    "# axs[1].axis('off')\n",
    "# plt.show()"
   ]
  },
  {
   "cell_type": "markdown",
   "metadata": {},
   "source": [
    "### Train the model"
   ]
  },
  {
   "cell_type": "code",
   "execution_count": 14,
   "metadata": {},
   "outputs": [],
   "source": [
    "model = Model(input_shape = resize_shape, kernel_size = 4,\n",
    "              strides = 2,\n",
    "              padding = 0,\n",
    "              num_filters = 4,\n",
    "              dense_units = 1)"
   ]
  },
  {
   "cell_type": "code",
   "execution_count": 15,
   "metadata": {},
   "outputs": [
    {
     "name": "stdout",
     "output_type": "stream",
     "text": [
      "Number of parameters in the model: 965\n"
     ]
    }
   ],
   "source": [
    "print(f\"Number of parameters in the model: {model.num_parameters()}\")"
   ]
  },
  {
   "cell_type": "code",
   "execution_count": 16,
   "metadata": {},
   "outputs": [],
   "source": [
    "NUM_EPOCHS = 20"
   ]
  },
  {
   "cell_type": "code",
   "execution_count": 17,
   "metadata": {},
   "outputs": [
    {
     "name": "stderr",
     "output_type": "stream",
     "text": [
      "Epoch 1:   0%|          | 0/10 [00:00<?, ?it/s]"
     ]
    },
    {
     "name": "stderr",
     "output_type": "stream",
     "text": [
      "Epoch 1: 100%|██████████| 10/10 [00:15<00:00,  1.52s/it]\n"
     ]
    },
    {
     "name": "stdout",
     "output_type": "stream",
     "text": [
      "Epoch 1: Loss: 0.35719252225321\n"
     ]
    },
    {
     "name": "stderr",
     "output_type": "stream",
     "text": [
      "Epoch 2: 100%|██████████| 10/10 [00:16<00:00,  1.69s/it]\n"
     ]
    },
    {
     "name": "stdout",
     "output_type": "stream",
     "text": [
      "Epoch 2: Loss: 0.2780327048117023\n"
     ]
    },
    {
     "name": "stderr",
     "output_type": "stream",
     "text": [
      "Epoch 3: 100%|██████████| 10/10 [00:16<00:00,  1.66s/it]\n"
     ]
    },
    {
     "name": "stdout",
     "output_type": "stream",
     "text": [
      "Epoch 3: Loss: 0.25133942587290287\n"
     ]
    },
    {
     "name": "stderr",
     "output_type": "stream",
     "text": [
      "Epoch 4: 100%|██████████| 10/10 [00:17<00:00,  1.74s/it]\n"
     ]
    },
    {
     "name": "stdout",
     "output_type": "stream",
     "text": [
      "Epoch 4: Loss: 0.2279149668923725\n"
     ]
    },
    {
     "name": "stderr",
     "output_type": "stream",
     "text": [
      "Epoch 5: 100%|██████████| 10/10 [00:17<00:00,  1.79s/it]\n"
     ]
    },
    {
     "name": "stdout",
     "output_type": "stream",
     "text": [
      "Epoch 5: Loss: 0.21378795715312837\n"
     ]
    },
    {
     "name": "stderr",
     "output_type": "stream",
     "text": [
      "Epoch 6: 100%|██████████| 10/10 [00:17<00:00,  1.76s/it]\n"
     ]
    },
    {
     "name": "stdout",
     "output_type": "stream",
     "text": [
      "Epoch 6: Loss: 0.20997599170113707\n"
     ]
    },
    {
     "name": "stderr",
     "output_type": "stream",
     "text": [
      "Epoch 7: 100%|██████████| 10/10 [00:17<00:00,  1.79s/it]\n"
     ]
    },
    {
     "name": "stdout",
     "output_type": "stream",
     "text": [
      "Epoch 7: Loss: 0.20587856835573887\n"
     ]
    },
    {
     "name": "stderr",
     "output_type": "stream",
     "text": [
      "Epoch 8: 100%|██████████| 10/10 [00:18<00:00,  1.81s/it]\n"
     ]
    },
    {
     "name": "stdout",
     "output_type": "stream",
     "text": [
      "Epoch 8: Loss: 0.203027665986675\n"
     ]
    },
    {
     "name": "stderr",
     "output_type": "stream",
     "text": [
      "Epoch 9: 100%|██████████| 10/10 [00:18<00:00,  1.85s/it]\n"
     ]
    },
    {
     "name": "stdout",
     "output_type": "stream",
     "text": [
      "Epoch 9: Loss: 0.2027161744555393\n"
     ]
    },
    {
     "name": "stderr",
     "output_type": "stream",
     "text": [
      "Epoch 10: 100%|██████████| 10/10 [00:17<00:00,  1.73s/it]\n"
     ]
    },
    {
     "name": "stdout",
     "output_type": "stream",
     "text": [
      "Epoch 10: Loss: 0.20180373726790224\n"
     ]
    },
    {
     "name": "stderr",
     "output_type": "stream",
     "text": [
      "Epoch 11: 100%|██████████| 10/10 [00:17<00:00,  1.80s/it]\n"
     ]
    },
    {
     "name": "stdout",
     "output_type": "stream",
     "text": [
      "Epoch 11: Loss: 0.2006449686261727\n"
     ]
    },
    {
     "name": "stderr",
     "output_type": "stream",
     "text": [
      "Epoch 12: 100%|██████████| 10/10 [00:17<00:00,  1.77s/it]\n"
     ]
    },
    {
     "name": "stdout",
     "output_type": "stream",
     "text": [
      "Epoch 12: Loss: 0.20045511705187774\n"
     ]
    },
    {
     "name": "stderr",
     "output_type": "stream",
     "text": [
      "Epoch 13: 100%|██████████| 10/10 [00:17<00:00,  1.77s/it]\n"
     ]
    },
    {
     "name": "stdout",
     "output_type": "stream",
     "text": [
      "Epoch 13: Loss: 0.19978751530716066\n"
     ]
    },
    {
     "name": "stderr",
     "output_type": "stream",
     "text": [
      "Epoch 14: 100%|██████████| 10/10 [00:17<00:00,  1.80s/it]\n"
     ]
    },
    {
     "name": "stdout",
     "output_type": "stream",
     "text": [
      "Epoch 14: Loss: 0.1995888701859844\n"
     ]
    },
    {
     "name": "stderr",
     "output_type": "stream",
     "text": [
      "Epoch 15: 100%|██████████| 10/10 [00:17<00:00,  1.78s/it]\n"
     ]
    },
    {
     "name": "stdout",
     "output_type": "stream",
     "text": [
      "Epoch 15: Loss: 0.1984730927407655\n"
     ]
    },
    {
     "name": "stderr",
     "output_type": "stream",
     "text": [
      "Epoch 16: 100%|██████████| 10/10 [00:18<00:00,  1.80s/it]\n"
     ]
    },
    {
     "name": "stdout",
     "output_type": "stream",
     "text": [
      "Epoch 16: Loss: 0.19845638464931523\n"
     ]
    },
    {
     "name": "stderr",
     "output_type": "stream",
     "text": [
      "Epoch 17: 100%|██████████| 10/10 [00:17<00:00,  1.79s/it]\n"
     ]
    },
    {
     "name": "stdout",
     "output_type": "stream",
     "text": [
      "Epoch 17: Loss: 0.1977023217835055\n"
     ]
    },
    {
     "name": "stderr",
     "output_type": "stream",
     "text": [
      "Epoch 18: 100%|██████████| 10/10 [00:18<00:00,  1.85s/it]\n"
     ]
    },
    {
     "name": "stdout",
     "output_type": "stream",
     "text": [
      "Epoch 18: Loss: 0.1971939882141402\n"
     ]
    },
    {
     "name": "stderr",
     "output_type": "stream",
     "text": [
      "Epoch 19: 100%|██████████| 10/10 [00:18<00:00,  1.84s/it]\n"
     ]
    },
    {
     "name": "stdout",
     "output_type": "stream",
     "text": [
      "Epoch 19: Loss: 0.1970522783721862\n"
     ]
    },
    {
     "name": "stderr",
     "output_type": "stream",
     "text": [
      "Epoch 20: 100%|██████████| 10/10 [00:17<00:00,  1.74s/it]"
     ]
    },
    {
     "name": "stdout",
     "output_type": "stream",
     "text": [
      "Epoch 20: Loss: 0.19936663670772245\n"
     ]
    },
    {
     "name": "stderr",
     "output_type": "stream",
     "text": [
      "\n"
     ]
    }
   ],
   "source": [
    "model.fit(X_train, y_train, num_epochs=NUM_EPOCHS, batch_size=4, lr = 0.1)"
   ]
  },
  {
   "cell_type": "code",
   "execution_count": null,
   "metadata": {},
   "outputs": [],
   "source": [
    "model.fit(X_train, y_train, num_epochs=10, batch_size=4, lr = 0.5)"
   ]
  },
  {
   "cell_type": "code",
   "execution_count": 29,
   "metadata": {},
   "outputs": [
    {
     "name": "stderr",
     "output_type": "stream",
     "text": [
      "Epoch 1: 100%|██████████| 10/10 [00:16<00:00,  1.69s/it]\n"
     ]
    },
    {
     "name": "stdout",
     "output_type": "stream",
     "text": [
      "Epoch 1: Loss: 0.0026064566227276442\n"
     ]
    },
    {
     "name": "stderr",
     "output_type": "stream",
     "text": [
      "Epoch 2: 100%|██████████| 10/10 [00:17<00:00,  1.75s/it]\n"
     ]
    },
    {
     "name": "stdout",
     "output_type": "stream",
     "text": [
      "Epoch 2: Loss: 0.001439945962324652\n"
     ]
    },
    {
     "name": "stderr",
     "output_type": "stream",
     "text": [
      "Epoch 3: 100%|██████████| 10/10 [00:18<00:00,  1.80s/it]\n"
     ]
    },
    {
     "name": "stdout",
     "output_type": "stream",
     "text": [
      "Epoch 3: Loss: 0.002575428520329598\n"
     ]
    },
    {
     "name": "stderr",
     "output_type": "stream",
     "text": [
      "Epoch 4: 100%|██████████| 10/10 [00:17<00:00,  1.75s/it]\n"
     ]
    },
    {
     "name": "stdout",
     "output_type": "stream",
     "text": [
      "Epoch 4: Loss: 0.002910589327728432\n"
     ]
    },
    {
     "name": "stderr",
     "output_type": "stream",
     "text": [
      "Epoch 5: 100%|██████████| 10/10 [00:17<00:00,  1.79s/it]\n"
     ]
    },
    {
     "name": "stdout",
     "output_type": "stream",
     "text": [
      "Epoch 5: Loss: 0.0022059073872461735\n"
     ]
    },
    {
     "name": "stderr",
     "output_type": "stream",
     "text": [
      "Epoch 6: 100%|██████████| 10/10 [00:19<00:00,  1.91s/it]\n"
     ]
    },
    {
     "name": "stdout",
     "output_type": "stream",
     "text": [
      "Epoch 6: Loss: 0.0021106765770484938\n"
     ]
    },
    {
     "name": "stderr",
     "output_type": "stream",
     "text": [
      "Epoch 7: 100%|██████████| 10/10 [00:18<00:00,  1.86s/it]\n"
     ]
    },
    {
     "name": "stdout",
     "output_type": "stream",
     "text": [
      "Epoch 7: Loss: 0.00222965977878973\n"
     ]
    },
    {
     "name": "stderr",
     "output_type": "stream",
     "text": [
      "Epoch 8: 100%|██████████| 10/10 [00:17<00:00,  1.79s/it]\n"
     ]
    },
    {
     "name": "stdout",
     "output_type": "stream",
     "text": [
      "Epoch 8: Loss: 0.003447290708825674\n"
     ]
    },
    {
     "name": "stderr",
     "output_type": "stream",
     "text": [
      "Epoch 9: 100%|██████████| 10/10 [00:18<00:00,  1.82s/it]\n"
     ]
    },
    {
     "name": "stdout",
     "output_type": "stream",
     "text": [
      "Epoch 9: Loss: 0.00397697661515766\n"
     ]
    },
    {
     "name": "stderr",
     "output_type": "stream",
     "text": [
      "Epoch 10: 100%|██████████| 10/10 [00:18<00:00,  1.88s/it]"
     ]
    },
    {
     "name": "stdout",
     "output_type": "stream",
     "text": [
      "Epoch 10: Loss: 0.0028254363771557677\n"
     ]
    },
    {
     "name": "stderr",
     "output_type": "stream",
     "text": [
      "\n"
     ]
    }
   ],
   "source": [
    "model.fit(X_train, y_train, num_epochs=10, batch_size=4, lr = 0.1)"
   ]
  },
  {
   "cell_type": "code",
   "execution_count": 30,
   "metadata": {},
   "outputs": [
    {
     "name": "stderr",
     "output_type": "stream",
     "text": [
      "Epoch 1: 100%|██████████| 10/10 [00:18<00:00,  1.86s/it]\n"
     ]
    },
    {
     "name": "stdout",
     "output_type": "stream",
     "text": [
      "Epoch 1: Loss: 0.002351700473270743\n"
     ]
    },
    {
     "name": "stderr",
     "output_type": "stream",
     "text": [
      "Epoch 2: 100%|██████████| 10/10 [00:17<00:00,  1.76s/it]\n"
     ]
    },
    {
     "name": "stdout",
     "output_type": "stream",
     "text": [
      "Epoch 2: Loss: 0.002270269506408416\n"
     ]
    },
    {
     "name": "stderr",
     "output_type": "stream",
     "text": [
      "Epoch 3: 100%|██████████| 10/10 [00:17<00:00,  1.79s/it]\n"
     ]
    },
    {
     "name": "stdout",
     "output_type": "stream",
     "text": [
      "Epoch 3: Loss: 0.0023029215256496136\n"
     ]
    },
    {
     "name": "stderr",
     "output_type": "stream",
     "text": [
      "Epoch 4: 100%|██████████| 10/10 [00:18<00:00,  1.82s/it]\n"
     ]
    },
    {
     "name": "stdout",
     "output_type": "stream",
     "text": [
      "Epoch 4: Loss: 0.002238652964546315\n"
     ]
    },
    {
     "name": "stderr",
     "output_type": "stream",
     "text": [
      "Epoch 5: 100%|██████████| 10/10 [00:17<00:00,  1.77s/it]\n"
     ]
    },
    {
     "name": "stdout",
     "output_type": "stream",
     "text": [
      "Epoch 5: Loss: 0.002209349000104026\n"
     ]
    },
    {
     "name": "stderr",
     "output_type": "stream",
     "text": [
      "Epoch 6: 100%|██████████| 10/10 [00:18<00:00,  1.81s/it]\n"
     ]
    },
    {
     "name": "stdout",
     "output_type": "stream",
     "text": [
      "Epoch 6: Loss: 0.0020126191226092003\n"
     ]
    },
    {
     "name": "stderr",
     "output_type": "stream",
     "text": [
      "Epoch 7: 100%|██████████| 10/10 [00:24<00:00,  2.41s/it]\n"
     ]
    },
    {
     "name": "stdout",
     "output_type": "stream",
     "text": [
      "Epoch 7: Loss: 0.0018745408494299943\n"
     ]
    },
    {
     "name": "stderr",
     "output_type": "stream",
     "text": [
      "Epoch 8: 100%|██████████| 10/10 [00:18<00:00,  1.82s/it]\n"
     ]
    },
    {
     "name": "stdout",
     "output_type": "stream",
     "text": [
      "Epoch 8: Loss: 0.0019395636611744898\n"
     ]
    },
    {
     "name": "stderr",
     "output_type": "stream",
     "text": [
      "Epoch 9: 100%|██████████| 10/10 [00:17<00:00,  1.80s/it]\n"
     ]
    },
    {
     "name": "stdout",
     "output_type": "stream",
     "text": [
      "Epoch 9: Loss: 0.0019117793881805968\n"
     ]
    },
    {
     "name": "stderr",
     "output_type": "stream",
     "text": [
      "Epoch 10: 100%|██████████| 10/10 [00:17<00:00,  1.76s/it]"
     ]
    },
    {
     "name": "stdout",
     "output_type": "stream",
     "text": [
      "Epoch 10: Loss: 0.0017389158864295447\n"
     ]
    },
    {
     "name": "stderr",
     "output_type": "stream",
     "text": [
      "\n"
     ]
    }
   ],
   "source": [
    "model.fit(X_train, y_train, num_epochs=10, batch_size=4, lr = 0.05)"
   ]
  },
  {
   "cell_type": "code",
   "execution_count": 33,
   "metadata": {},
   "outputs": [
    {
     "name": "stderr",
     "output_type": "stream",
     "text": [
      "Epoch 1: 100%|██████████| 10/10 [00:15<00:00,  1.54s/it]\n"
     ]
    },
    {
     "name": "stdout",
     "output_type": "stream",
     "text": [
      "Epoch 1: Loss: 0.0016848493321786867\n"
     ]
    },
    {
     "name": "stderr",
     "output_type": "stream",
     "text": [
      "Epoch 2: 100%|██████████| 10/10 [00:17<00:00,  1.74s/it]\n"
     ]
    },
    {
     "name": "stdout",
     "output_type": "stream",
     "text": [
      "Epoch 2: Loss: 0.001656977475453797\n"
     ]
    },
    {
     "name": "stderr",
     "output_type": "stream",
     "text": [
      "Epoch 3: 100%|██████████| 10/10 [00:19<00:00,  1.91s/it]\n"
     ]
    },
    {
     "name": "stdout",
     "output_type": "stream",
     "text": [
      "Epoch 3: Loss: 0.0016540239492803723\n"
     ]
    },
    {
     "name": "stderr",
     "output_type": "stream",
     "text": [
      "Epoch 4: 100%|██████████| 10/10 [00:18<00:00,  1.87s/it]\n"
     ]
    },
    {
     "name": "stdout",
     "output_type": "stream",
     "text": [
      "Epoch 4: Loss: 0.0016358815303606012\n"
     ]
    },
    {
     "name": "stderr",
     "output_type": "stream",
     "text": [
      "Epoch 5: 100%|██████████| 10/10 [00:18<00:00,  1.80s/it]\n"
     ]
    },
    {
     "name": "stdout",
     "output_type": "stream",
     "text": [
      "Epoch 5: Loss: 0.0016311102138445843\n"
     ]
    },
    {
     "name": "stderr",
     "output_type": "stream",
     "text": [
      "Epoch 6: 100%|██████████| 10/10 [00:19<00:00,  1.91s/it]\n"
     ]
    },
    {
     "name": "stdout",
     "output_type": "stream",
     "text": [
      "Epoch 6: Loss: 0.0016308709496580913\n"
     ]
    },
    {
     "name": "stderr",
     "output_type": "stream",
     "text": [
      "Epoch 7: 100%|██████████| 10/10 [00:18<00:00,  1.85s/it]\n"
     ]
    },
    {
     "name": "stdout",
     "output_type": "stream",
     "text": [
      "Epoch 7: Loss: 0.001628730279652511\n"
     ]
    },
    {
     "name": "stderr",
     "output_type": "stream",
     "text": [
      "Epoch 8: 100%|██████████| 10/10 [00:18<00:00,  1.84s/it]\n"
     ]
    },
    {
     "name": "stdout",
     "output_type": "stream",
     "text": [
      "Epoch 8: Loss: 0.001623712104410852\n"
     ]
    },
    {
     "name": "stderr",
     "output_type": "stream",
     "text": [
      "Epoch 9: 100%|██████████| 10/10 [00:18<00:00,  1.89s/it]\n"
     ]
    },
    {
     "name": "stdout",
     "output_type": "stream",
     "text": [
      "Epoch 9: Loss: 0.0016098892240040267\n"
     ]
    },
    {
     "name": "stderr",
     "output_type": "stream",
     "text": [
      "Epoch 10: 100%|██████████| 10/10 [00:18<00:00,  1.81s/it]"
     ]
    },
    {
     "name": "stdout",
     "output_type": "stream",
     "text": [
      "Epoch 10: Loss: 0.0016006193474981454\n"
     ]
    },
    {
     "name": "stderr",
     "output_type": "stream",
     "text": [
      "\n"
     ]
    }
   ],
   "source": [
    "model.fit(X_train, y_train, num_epochs=10, batch_size=4, lr = 0.02)"
   ]
  },
  {
   "cell_type": "code",
   "execution_count": 36,
   "metadata": {},
   "outputs": [
    {
     "name": "stdout",
     "output_type": "stream",
     "text": [
      "Actual: 1.0, Predicted: 0.9985442278714501\n",
      "Actual: 1.0, Predicted: 0.8007841570587447\n",
      "Actual: 0.0, Predicted: 0.025024270545361424\n",
      "Actual: 0.0, Predicted: 0.0016231997560087119\n",
      "Actual: 1.0, Predicted: 0.9032861554834203\n",
      "Actual: 0.0, Predicted: 0.10994197852054689\n",
      "Actual: 0.0, Predicted: 0.10997360284485685\n",
      "Actual: 1.0, Predicted: 0.9440698668221421\n",
      "Actual: 1.0, Predicted: 0.8439036294275397\n",
      "Actual: 1.0, Predicted: 0.9951832915213479\n",
      "Actual: 0.0, Predicted: 0.0026611518948312443\n",
      "Actual: 0.0, Predicted: 0.11610995184385418\n",
      "Actual: 0.0, Predicted: 0.05986475220248105\n",
      "Actual: 1.0, Predicted: 0.9965706703634118\n",
      "Actual: 0.0, Predicted: 0.21285700439901803\n",
      "Actual: 1.0, Predicted: 0.9979950127168529\n",
      "Actual: 0.0, Predicted: 0.17568187227031057\n",
      "Actual: 0.0, Predicted: 0.1395587380493826\n",
      "Actual: 0.0, Predicted: 0.027788999244365394\n",
      "Actual: 0.0, Predicted: 0.009280349406062883\n",
      "Actual: 1.0, Predicted: 0.9737891233956708\n",
      "Actual: 0.0, Predicted: 0.23174869993559014\n",
      "Actual: 0.0, Predicted: 0.03102252233173295\n",
      "Actual: 0.0, Predicted: 0.055009411430463145\n",
      "Actual: 1.0, Predicted: 0.1393117329312081\n",
      "Actual: 0.0, Predicted: 0.003266058609291469\n",
      "Actual: 1.0, Predicted: 0.7701276472430044\n",
      "Actual: 0.0, Predicted: 0.07426938445114503\n",
      "Actual: 1.0, Predicted: 0.9845300368284753\n",
      "Actual: 1.0, Predicted: 0.7616698462421102\n",
      "Actual: 1.0, Predicted: 0.7916143735364326\n",
      "Actual: 0.0, Predicted: 0.0003460808726849834\n",
      "Actual: 1.0, Predicted: 0.8717102613648163\n",
      "Actual: 1.0, Predicted: 0.8498090784354182\n",
      "Actual: 0.0, Predicted: 0.48024551667057913\n",
      "Actual: 1.0, Predicted: 0.9244146812832554\n",
      "Actual: 0.0, Predicted: 0.06113480190504714\n",
      "Actual: 1.0, Predicted: 0.998195955478353\n",
      "Actual: 1.0, Predicted: 0.9495439564917345\n",
      "Actual: 1.0, Predicted: 0.9995824645871886\n",
      "Train Accuracy: 97.5\n"
     ]
    }
   ],
   "source": [
    "# Find the accuracy on the train set\n",
    "THR = 0.5\n",
    "acc = 0.0\n",
    "for i in range(X_train.shape[0]):\n",
    "    pred = model.predict(X_train[i])\n",
    "    print(f'Actual: {y_train[i].data}, Predicted: {pred.data}')\n",
    "    if pred.data > THR:\n",
    "        val = 1.0\n",
    "    else:\n",
    "        val = 0.0\n",
    "    if val == y_train[i].data:\n",
    "        acc += 1.0\n",
    "    # print(f'Actual: {y_test[i]}, Predicted: {pred}')\n",
    "acc /= X_train.shape[0]\n",
    "print(f'Train Accuracy: {acc*100.0}')"
   ]
  },
  {
   "cell_type": "code",
   "execution_count": 35,
   "metadata": {},
   "outputs": [
    {
     "name": "stdout",
     "output_type": "stream",
     "text": [
      "Actual: 1.0, Predicted: 0.006093150797864937\n",
      "Actual: 1.0, Predicted: 0.26503970994528553\n",
      "Actual: 0.0, Predicted: 0.6711516419343391\n",
      "Actual: 0.0, Predicted: 0.784587661524021\n",
      "Actual: 0.0, Predicted: 0.031161771444722045\n",
      "Actual: 1.0, Predicted: 0.9832134884856487\n",
      "Actual: 1.0, Predicted: 0.9517384400135886\n",
      "Actual: 0.0, Predicted: 6.486703699820054e-05\n",
      "Actual: 1.0, Predicted: 0.0111759300530628\n",
      "Actual: 0.0, Predicted: 0.02949225134140729\n",
      "Actual: 0.0, Predicted: 0.8621851027347056\n",
      "Actual: 0.0, Predicted: 0.4141819341105109\n",
      "Actual: 1.0, Predicted: 0.8611900203994847\n",
      "Actual: 0.0, Predicted: 3.499900659031741e-05\n",
      "Actual: 0.0, Predicted: 0.9817437950463123\n",
      "Actual: 1.0, Predicted: 0.9979549334393392\n",
      "Actual: 1.0, Predicted: 0.8611900203994847\n",
      "Actual: 0.0, Predicted: 0.8118290810354564\n",
      "Actual: 1.0, Predicted: 0.07829539785850963\n",
      "Actual: 1.0, Predicted: 0.9984911722396506\n",
      "Test Accuracy: 55.00000000000001\n"
     ]
    }
   ],
   "source": [
    "# Find the accuracy on the test set\n",
    "THR = 0.5\n",
    "acc = 0.0\n",
    "for i in range(X_test.shape[0]):\n",
    "    pred = model.predict(X_test[i])\n",
    "    print(f'Actual: {y_test[i].data}, Predicted: {pred.data}')\n",
    "    if pred.data > THR:\n",
    "        val = 1.0\n",
    "    else:\n",
    "        val = 0.0\n",
    "    if val == y_test[i].data:\n",
    "        acc += 1.0\n",
    "    # print(f'Actual: {y_test[i]}, Predicted: {pred}')\n",
    "acc /= X_test.shape[0]\n",
    "print(f'Test Accuracy: {acc*100.0}')"
   ]
  },
  {
   "cell_type": "markdown",
   "metadata": {},
   "source": [
    "- Train accuracy: 97.5\n",
    "- Test accuracy: 55.0<br>\n",
    "Overfitting, lol.<br>\n",
    "Although expected, because the model has just 965 parameters."
   ]
  },
  {
   "cell_type": "code",
   "execution_count": null,
   "metadata": {},
   "outputs": [],
   "source": []
  }
 ],
 "metadata": {
  "kernelspec": {
   "display_name": "nn",
   "language": "python",
   "name": "python3"
  },
  "language_info": {
   "codemirror_mode": {
    "name": "ipython",
    "version": 3
   },
   "file_extension": ".py",
   "mimetype": "text/x-python",
   "name": "python",
   "nbconvert_exporter": "python",
   "pygments_lexer": "ipython3",
   "version": "3.10.12"
  }
 },
 "nbformat": 4,
 "nbformat_minor": 2
}
